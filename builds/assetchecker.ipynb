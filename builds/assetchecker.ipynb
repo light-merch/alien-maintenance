{
 "cells": [
  {
   "cell_type": "code",
   "execution_count": 1,
   "metadata": {},
   "outputs": [],
   "source": [
    "import os"
   ]
  },
  {
   "cell_type": "code",
   "execution_count": 2,
   "metadata": {},
   "outputs": [],
   "source": [
    "def GenerateOrder():\n",
    "    for i in os.listdir(\"./sprites\"):\n",
    "        print(f\"\\\"{i}\\\",\")"
   ]
  },
  {
   "cell_type": "code",
   "execution_count": 3,
   "metadata": {},
   "outputs": [
    {
     "name": "stdout",
     "output_type": "stream",
     "text": [
      "\"door1_left.png\",\n",
      "\"door1_right.png\",\n",
      "\"door2.png\",\n",
      "\"door3.png\",\n",
      "\"door4_left.png\",\n",
      "\"door4_right.png\",\n",
      "\"empty.png\",\n",
      "\"floor.png\",\n",
      "\"floor10.png\",\n",
      "\"floor11.png\",\n",
      "\"floor2.png\",\n",
      "\"floor3.png\",\n",
      "\"floor4.png\",\n",
      "\"floor5.png\",\n",
      "\"floor6.png\",\n",
      "\"floor7.png\",\n",
      "\"floor8.png\",\n",
      "\"floor9.png\",\n",
      "\"ladder1.png\",\n",
      "\"save1.png\",\n",
      "\"the_alien.gif\",\n",
      "\"wall10.png\",\n",
      "\"wall11.png\",\n",
      "\"wall12.png\",\n",
      "\"wall14.png\",\n",
      "\"wall15.png\",\n",
      "\"wall16.png\",\n",
      "\"Wall2.png\",\n",
      "\"wall3.png\",\n",
      "\"wall4.png\",\n",
      "\"wall5.png\",\n",
      "\"wall6.png\",\n",
      "\"wall7.png\",\n",
      "\"wall8.png\",\n",
      "\"wall9.png\",\n"
     ]
    }
   ],
   "source": [
    "GenerateOrder()"
   ]
  },
  {
   "cell_type": "code",
   "execution_count": null,
   "metadata": {},
   "outputs": [],
   "source": []
  }
 ],
 "metadata": {
  "interpreter": {
   "hash": "bfe046b92477d23594e69e941477beedba8ceaa21dc8722c3899b4c058364173"
  },
  "kernelspec": {
   "display_name": "Python 3.10.0 64-bit",
   "language": "python",
   "name": "python3"
  },
  "language_info": {
   "codemirror_mode": {
    "name": "ipython",
    "version": 3
   },
   "file_extension": ".py",
   "mimetype": "text/x-python",
   "name": "python",
   "nbconvert_exporter": "python",
   "pygments_lexer": "ipython3",
   "version": "3.10.0"
  },
  "orig_nbformat": 4
 },
 "nbformat": 4,
 "nbformat_minor": 2
}
